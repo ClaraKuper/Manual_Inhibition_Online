{
 "cells": [
  {
   "cell_type": "markdown",
   "id": "4094126c",
   "metadata": {},
   "source": [
    "### Brief description of the planned analysis\n",
    "\n",
    "**Data sanity checks**\n",
    "\n",
    "- compute the duration of the main session of the experiment per person\n",
    "- plot duration over time (lineplot)\n",
    "- check the number of trails each participant completed/condition -> which are missing?\n",
    "- check the performance by condition\n",
    "- screen size parameters -> plot\n",
    "- screen timing -> mean refresh rates\n",
    "- calibration parameters -> pix/degree, distance from phone ...\n",
    "\n",
    "**Demographic Data**\n",
    "- age distribution\n",
    "- gender\n",
    "- location in the world (map?)\n",
    "\n",
    "**Data preprocessing**\n",
    "- mean center x and y coordinates\n",
    "    - individually for each of the 6 locations\n",
    "- check outliers -> how many are there for each participant, color-code them\n",
    "- convert position in pixel to position in dva (expressed relative to screen center)\n",
    "\n",
    "**Data Analysis Dip**\n",
    "- individually compute movement rate\n",
    "    - compute the trial number!\n",
    "    - normalize to baseline, 100 ms before onset after doing the right trial correction\n",
    "- from normalized baseline, compute:\n",
    "    - minimum movement frequency\n",
    "    - bottom of the dip - (baseline - min) + 0.1 * (baseline - min)\n",
    "    - latency to maximum movement inhibition\n",
    "    - magnitude of the inhibition\n",
    "    - latency to 50% maximum inhibition\n",
    "    - duration of the inhibition\n",
    "- check deviation from baseline: baseline = no flash, no shift\n",
    "- ANOVA: magnitude of the inhibition ~ (flash_condition x shift_condition)/subject\n",
    "- ANOVA: duration of the inhibition ~ (flash_condition x shift_condition)/subject\n",
    "- latency: MEASURE OF CLUTTERING?\n",
    "\n",
    "**Data Analysis Error**\n",
    "- compute the distance touch response -> corresponding dot (for shifted and non-shifted arrays)\n",
    "- compute average error from non-shift trials\n",
    "- compute -> does the order of the dots explain the error?\n",
    "- linear model (y = a * x + b) \n",
    "- mean model of the data (y = b)\n",
    "- subtract the error predicted by the model from the actual error.\n",
    "- compute moving-window average error\n",
    "- fit logistic regression:\n",
    "        L/(1+e^(k(x-x0)))\n",
    "        \n",
    "        where L is the maximum error value, k the decay rate (steepness of the function) and x0 is the midpoint of the function (shift)\n",
    "\n",
    "- parameters L, k, x0 -> ANOVA\n",
    "\n",
    "**Quantify Improvement of Performance through inhibition**\n",
    "- Given logistic regression -> estimated from participant\n",
    "- What's the optimal duration, magnitude and latency for inhibition?\n",
    "- response-generating function? \n",
    "- constraint by timing requirements\n",
    "- Are the optimal values correlated with the actual values?"
   ]
  },
  {
   "cell_type": "markdown",
   "id": "2c971e75",
   "metadata": {},
   "source": [
    "### Imports "
   ]
  },
  {
   "cell_type": "code",
   "execution_count": 1,
   "id": "bcf49e3a",
   "metadata": {},
   "outputs": [],
   "source": [
    "import helper_funcs as helper\n",
    "import json\n",
    "import loading_data as loader\n",
    "import math\n",
    "import matplotlib.pyplot as plt\n",
    "import numpy as np\n",
    "import pandas as pd\n",
    "import seaborn as sns\n",
    "\n",
    "from preprocessing import preprocessing_pipeline"
   ]
  },
  {
   "cell_type": "markdown",
   "id": "3b4e3dc5",
   "metadata": {},
   "source": [
    "### Paths "
   ]
  },
  {
   "cell_type": "code",
   "execution_count": 2,
   "id": "692d1715",
   "metadata": {},
   "outputs": [],
   "source": [
    "data_path            = '../data/study_data_multiple_sessions/'\n",
    "jatos_rawfile_path   = data_path + 'full_datafile.txt' \n",
    "data_file            = data_path + 'full_datafile.csv'\n",
    "metadata_path        = data_path + 'metadata_prolific/'\n",
    "incomplete_main_path = data_path + 'incomplete_main_sessions/'\n",
    "jatos_extrafile_path = data_path + 'additional_datafile.txt'\n",
    "jatos_extraquestion_path = data_path + 'missing_questionnaire.csv'\n",
    "\n",
    "calibration_path = data_path + 'all_calibrations.csv'\n",
    "calibration_params_path = data_path + 'all_calibration_params.csv'\n",
    "training_path = data_path + 'all_trainings.csv'\n",
    "questions_path = data_path + 'all_questions.csv'\n",
    "trial_path = data_path + 'all_trials.csv'\n",
    "successful_trials_path = data_path + 'all_successful_trials.pkl'\n",
    "successful_trials_long_path = data_path + 'all_successful_trials_long.csv'\n",
    "\n",
    "\n",
    "path_names = {'source': jatos_rawfile_path,\n",
    "             'incomplete': incomplete_main_path,\n",
    "             'extra': jatos_extrafile_path,\n",
    "             'extra_questions': jatos_extraquestion_path,\n",
    "             'out_file': data_file}"
   ]
  },
  {
   "cell_type": "markdown",
   "id": "72e24e46",
   "metadata": {},
   "source": [
    "### Loading data"
   ]
  },
  {
   "cell_type": "code",
   "execution_count": 3,
   "id": "15565428",
   "metadata": {},
   "outputs": [],
   "source": [
    "data = loader.load_all_data(path_names)"
   ]
  },
  {
   "cell_type": "markdown",
   "id": "dd58b1f3",
   "metadata": {},
   "source": [
    "### Preprocessing data"
   ]
  },
  {
   "cell_type": "code",
   "execution_count": 4,
   "id": "58d2cc35",
   "metadata": {
    "scrolled": true
   },
   "outputs": [],
   "source": [
    "calibration_data, training_data, main_session_data, trial_data, question_data, calibration_params, trial_data_long_format = preprocessing_pipeline(data_file)\n",
    "\n",
    "calibration_data.to_csv(calibration_path, index = False)\n",
    "calibration_params.to_csv(calibration_params_path, index = False)\n",
    "training_data.to_csv(training_path, index = False)\n",
    "question_data.to_csv(questions_path, index = False)\n",
    "trial_data.to_csv(trial_path, index = False)\n",
    "\n",
    "trial_data_successful=trial_data[trial_data.success == 1]\n",
    "trial_data_successful.reset_index(inplace=True, drop=True)"
   ]
  },
  {
   "cell_type": "code",
   "execution_count": 5,
   "id": "54bf8ba3",
   "metadata": {},
   "outputs": [
    {
     "data": {
      "text/plain": [
       "Index(['success', 'timeout', 'failed_images', 'failed_audio', 'failed_video',\n",
       "       'trial_type', 'trial_index', 'time_elapsed', 'internal_node_id',\n",
       "       'subject', 'prolific_id', 'study_id', 'session_id', 'session_number',\n",
       "       'component', 'rt', 'response', 'question_order', 'test_part',\n",
       "       'item_width_mm', 'item_height_mm', 'item_width_px', 'px2mm',\n",
       "       'view_dist_mm', 'item_width_deg', 'px2deg', 'win_width_deg',\n",
       "       'win_height_deg', 'stimulus', 'button_pressed', 'trialShown',\n",
       "       'startTime', 'endTime', 'flashOnTime', 'flashOffTime', 'touchOn',\n",
       "       'touchOff', 'scheduled_change_onset', 'flash_duration', 'change_onset',\n",
       "       'trial_duration', 'animation_timestamps', 'touchX', 'touchY',\n",
       "       'choiceOrder', 'position_x', 'position_y', 'shifted_position_x',\n",
       "       'shifted_position_y', 'lateResponse', 'orderResponse', 'tooManyTouches',\n",
       "       'screenInLandscape', 'windowWidth', 'windowHeight', 'userInfo',\n",
       "       'platform', 'flashTime', 'trialID', 'stimJumped', 'flashShown',\n",
       "       'responses', 'survey_response'],\n",
       "      dtype='object')"
      ]
     },
     "execution_count": 5,
     "metadata": {},
     "output_type": "execute_result"
    }
   ],
   "source": [
    "data.columns"
   ]
  },
  {
   "cell_type": "markdown",
   "id": "7f4d59f8",
   "metadata": {},
   "source": [
    "### Duration of the main session"
   ]
  },
  {
   "cell_type": "code",
   "execution_count": 6,
   "id": "e8ba24e3",
   "metadata": {},
   "outputs": [
    {
     "data": {
      "image/png": "[encoded data removed]",
      "text/plain": [
       "<Figure size 432x288 with 1 Axes>"
      ]
     },
     "metadata": {
      "needs_background": "light"
     },
     "output_type": "display_data"
    }
   ],
   "source": [
    "time_data = trial_data.groupby(['prolific_id', 'session_number']).describe()['time_elapsed']\n",
    "\n",
    "elapsed_time = (time_data['max'] - time_data['min'])/60000\n",
    "elapsed_time = elapsed_time.reset_index()\n",
    "\n",
    "# plotting\n",
    "duration_fig, duration_axs = plt.subplots(1,1)\n",
    "sns.lineplot(data=elapsed_time, x=\"session_number\", y=0, \n",
    "             hue=\"prolific_id\", palette='Greys', alpha = 0.5, \n",
    "             legend = False, ax = duration_axs)\n",
    "\n",
    "sns.lineplot(data=elapsed_time, x=\"session_number\", y=0, \n",
    "             color='Green', linewidth = 3, legend = False, ax = duration_axs)\n",
    "\n",
    "duration_axs.set_title('Duration of the main session in minutes')\n",
    "duration_axs.set_xlabel('Session Number (1-4)')\n",
    "duration_axs.set_ylabel('Duration');"
   ]
  },
  {
   "cell_type": "markdown",
   "id": "3c9ae412",
   "metadata": {},
   "source": [
    "### Missing data points"
   ]
  },
  {
   "cell_type": "code",
   "execution_count": 7,
   "id": "5bc26c21",
   "metadata": {},
   "outputs": [
    {
     "data": {
      "image/png": "[encoded data removed]",
      "text/plain": [
       "<Figure size 432x288 with 2 Axes>"
      ]
     },
     "metadata": {
      "needs_background": "light"
     },
     "output_type": "display_data"
    }
   ],
   "source": [
    "trial_count_data = trial_data_successful.groupby(['prolific_id', 'condition']).describe()['success']\n",
    "trial_count = 200 - trial_count_data['count']\n",
    "trial_count = trial_count.reset_index()\n",
    "trial_count = trial_count.pivot(\"condition\", \"prolific_id\", \"count\")\n",
    "\n",
    "sns.heatmap(trial_count, annot = True, cmap=\"YlGnBu\");"
   ]
  },
  {
   "cell_type": "markdown",
   "id": "936e2737",
   "metadata": {},
   "source": [
    "### Performance by Condition"
   ]
  },
  {
   "cell_type": "code",
   "execution_count": 8,
   "id": "83842f5f",
   "metadata": {
    "scrolled": false
   },
   "outputs": [
    {
     "data": {
      "image/png": "[encoded data removed]",
      "text/plain": [
       "<Figure size 432x288 with 2 Axes>"
      ]
     },
     "metadata": {
      "needs_background": "light"
     },
     "output_type": "display_data"
    }
   ],
   "source": [
    "trial_id_condition = trial_data.groupby(['prolific_id', 'condition']).describe()\n",
    "trial_performance_data = trial_id_condition['success']\n",
    "trial_performance = trial_performance_data['mean']\n",
    "trial_performance = trial_performance.reset_index()\n",
    "trial_performance = trial_performance.pivot(\"condition\", \"prolific_id\", \"mean\")\n",
    "\n",
    "sns.heatmap(trial_performance, cmap=\"YlGnBu\");"
   ]
  },
  {
   "cell_type": "markdown",
   "id": "4966431d",
   "metadata": {},
   "source": [
    "Performance differs by condition - with shift, performance is worse than without shift. \n",
    "\n",
    "#### What causes the higher error rate? More missed responses or more delayed responses?"
   ]
  },
  {
   "cell_type": "code",
   "execution_count": 9,
   "id": "572a6fa4",
   "metadata": {},
   "outputs": [
    {
     "data": {
      "image/png": "[encoded data removed]",
      "text/plain": [
       "<Figure size 720x720 with 5 Axes>"
      ]
     },
     "metadata": {
      "needs_background": "light"
     },
     "output_type": "display_data"
    }
   ],
   "source": [
    "# grid plot by error type\n",
    "error_type_fig, error_type_axs = plt.subplots(2,2, figsize = (10,10), sharex = True, sharey = True)\n",
    "cbar_ax = error_type_fig.add_axes([.91, .3, .03, .4])\n",
    "\n",
    "def show_error_heatmap(grouped_data, error_type, axs, cbar_ax):\n",
    "    errors = grouped_data[error_type]['mean'].reset_index()\n",
    "    if error_type == 'orderResponse' or error_type == 'success':\n",
    "        errors['mean'] = 1 - errors['mean']\n",
    "    errors = errors.pivot(\"condition\", \"prolific_id\", \"mean\")\n",
    "    \n",
    "    sns.heatmap(errors, cmap=\"YlGnBu\", \n",
    "                ax = axs, \n",
    "                vmin = 0, vmax = 0.3,\n",
    "                cbar = None if not cbar_ax else cbar_ax,\n",
    "                cbar_ax = cbar_ax)\n",
    "    axs.set_title(error_type)\n",
    "    axs.set_xlabel('')\n",
    "    axs.set_ylabel('')\n",
    "    \n",
    "    \n",
    "show_error_heatmap(trial_id_condition, 'success', error_type_axs[0,0], None)\n",
    "show_error_heatmap(trial_id_condition, 'lateResponse', error_type_axs[0,1], None)\n",
    "show_error_heatmap(trial_id_condition, 'tooManyTouches', error_type_axs[1,0], None)\n",
    "show_error_heatmap(trial_id_condition, 'orderResponse', error_type_axs[1,1], cbar_ax)"
   ]
  },
  {
   "cell_type": "markdown",
   "id": "ac80bbdf",
   "metadata": {},
   "source": [
    "We see an increase in all error types after a flash. This is not ideal, because it means that the responses were more likely to be interrupted do to a spatial error, rather than just a timeout. Any following experiment should counteract this effect by increasing the range in which an error is tolerated. "
   ]
  },
  {
   "cell_type": "markdown",
   "id": "732e2389",
   "metadata": {},
   "source": [
    "### Screen Parameters"
   ]
  },
  {
   "cell_type": "markdown",
   "id": "39d5fb50",
   "metadata": {},
   "source": [
    "#### Extract device type from user info"
   ]
  },
  {
   "cell_type": "code",
   "execution_count": 10,
   "id": "8a1323c1",
   "metadata": {},
   "outputs": [],
   "source": [
    "# filter system information\n",
    "all_user_info = np.unique(question_data['userInfo'].dropna())\n",
    "get_device = lambda user_info: user_info.split('(')[1].split(')')[0].split('; ')[2]\n",
    "all_devices = [get_device(system) for system in all_user_info]\n",
    "all_devices = np.unique(all_devices)"
   ]
  },
  {
   "cell_type": "code",
   "execution_count": 11,
   "id": "ae79b9ee",
   "metadata": {},
   "outputs": [],
   "source": [
    "# add device name to trial data\n",
    "trial_data['device'] = [get_device(user_info) for user_info in trial_data['userInfo']]"
   ]
  },
  {
   "cell_type": "markdown",
   "id": "1ab11969",
   "metadata": {},
   "source": [
    "- ANE-AL00: Huawei P20 Lite, Screen: IPS LCD - capacitive multitouch - no phases\n",
    "- ANE-LX1: Huawei P20 Lite Dual Sim, Screen: LTPS IPS LCD capacitive multitouch - no phases\n",
    "- DRA-LX5: Huawei Y5 Lite, Screen: LCD, capacitive multitouch - no phases\n",
    "- ELE-L29: Huawei P30, Screen: OLED, capacitive multitouch - no phases\n",
    "- LDN-L01: Huawei Y7, Screen: IPS LCD, capacitive multitouch - no phases\n",
    "- LG-M700: LG Q6, Screen: IPS LCD, capacitive multitouch - phase\n",
    "- LM-G710: LG 7Q ThinQ, Screen:  IPS LCD, capacitive multitouch - phases\n",
    "- M2002J9G: XIAOMI MI 10 LITE, Screen: AMOLED, capacitive multitouch - no phases\n",
    "- M2101K7BG: Xiaomi Redmi Note 10S, Screen: Super AMOLED, capacitive multitouch - no phases\n",
    "- Redmi Note 8 Pro: Screen: IPS LCD, capacitive - Phases\n",
    "- Redmi Note 9 Pro: Screen: IPS LCD, capacitive - Phases\n",
    "- SAMSUNG SM-A225F: Samsung Galaxy A22, Screen: Super AMOLED, capacitive multitouch - mixed phases\n",
    "- SAMSUNG SM-A325F: Samsung Galaxy A32, Screen: Super AMOLED 90 Hz, capacitive multitouch - phases\n",
    "- SM-A307FN: Samsung Galaxy A30s, Screen: Super AMOLED, capacitive multitouch - no phases\n",
    "- SM-A515F: Samsung Galaxy A51, Screen: Super AMOLED, capacitive multitouch - mixed phases, adaptive frequence\n",
    "- SM-A528B: Galaxy A52s 5G, Screen: Super AMOLED, capacitive multitouch - phase/ no phase in different session\n",
    "- SM-G532F: Samsung Galaxy Grand Prime Plus, Screen: PLS IPS, capacitive multi-touch, - no phases\n",
    "- SM-G950F: SAMSUNG GALAXY S8, Screen: Super AMOLED, capacitive multi-touch - phases\n",
    "- SM-T116: Samsung Galaxy Tab 3 Lite, Screen: TFT LCD, capacitive multi-touch - no phases\n",
    "- SM-T585: Samsung Galaxy Tab A, Screen: LPS LCD, capacitive multi-touch - no phases\n",
    "- SNE-LX1: Huawei Mate 20, Screen: TFT/LPS? LCD, capacitive multi-touch - phases\n",
    "- STK-LX3: Huawei Y9 Prime, Screen: IPS LCD, capacitive multi-touch - phases\n",
    "- U693CL: UMX U693Cl, Screen: ?, \n",
    "- rv:97.0: Firefox - no phases"
   ]
  },
  {
   "cell_type": "markdown",
   "id": "1f654040",
   "metadata": {},
   "source": [
    "#### Create a custom color scheme for devices"
   ]
  },
  {
   "cell_type": "code",
   "execution_count": 12,
   "id": "f53aa878",
   "metadata": {},
   "outputs": [],
   "source": [
    "device_colors = {\n",
    "    'ANE-AL00': '#ED9E97', # huawei (red)\n",
    "    'ANE-LX1': '#E77E74', # huawei (red)\n",
    "    'DRA-LX5': '#E15D51', # huawei (red)\n",
    "    'ELE-L29': '#9D251B', # huawei (red)\n",
    "    'LDN-L01': '#7A1D15' ,# huawei (red)\n",
    "    'LG-M700': '#F5A651', # lg (orange)\n",
    "    'LM-G710': '#F28818', # lg (orange)\n",
    "    'M2002J9G': '#FFF870', # xiaomi (yellow)\n",
    "    'M2101K7BG': '#F5E900', # xiaomi (yellow)\n",
    "    'Redmi Note 8 Pro': '#CCC200', # xiaomi (yellow)\n",
    "    'Redmi Note 9 Pro': '#A39B00', # xiaomo (yello)\n",
    "    'SAMSUNG SM-A225F': '#DDEAD7', # samsung (green)\n",
    "    'SAMSUNG SM-A325F': '#C7DBBD', # samsung (green)\n",
    "    'SM-A307FN': '#B1CCA3', # samsung (green)\n",
    "    'SM-A515F': '#9ABE89', # samsung (green)\n",
    "    'SM-A528B': '#83AF6E', # samsung (green)\n",
    "    'SM-G532F': '#6D9E57', # samsung (green)\n",
    "    'SM-G950F': '#5B8448', # samsung (green)\n",
    "    'SM-T116': '#49693A', # samsung (green)\n",
    "    'SM-T585': '#374F2B', # samsung (green)\n",
    "    'STK-LX3': '#DC3C2E', # huawei (red)\n",
    "    'SNE-LX1': '#C02E21', # huawei (red)\n",
    "    'U693CL': '#463F0C', # UMX - Assurance Wireless\n",
    "    'rv:97.0': '#1D1A05' # firefox/unknown\n",
    "}"
   ]
  },
  {
   "cell_type": "markdown",
   "id": "ec32f9c8",
   "metadata": {},
   "source": [
    "#### Create a mapping between jatos worker and device"
   ]
  },
  {
   "cell_type": "code",
   "execution_count": 13,
   "id": "c59822a2",
   "metadata": {},
   "outputs": [],
   "source": [
    "successful_trials_path = data_path + 'all_successful_trials.pkl'\n",
    "jatos_device_mapping = {}\n",
    "\n",
    "for worker in np.unique(trial_data.subject):\n",
    "    jatos_device_mapping[worker] = np.unique(trial_data[trial_data.subject == worker].device)[0]\n",
    "    \n",
    "trial_data['device'] = trial_data.subject.replace(jatos_device_mapping)\n",
    "trial_data_successful = trial_data[trial_data.success == 1]\n",
    "trial_data_successful.reset_index(inplace=True, drop=True)\n",
    "\n",
    "trial_data_successful.to_pickle(successful_trials_path)"
   ]
  },
  {
   "cell_type": "code",
   "execution_count": null,
   "id": "e9f4221e",
   "metadata": {},
   "outputs": [],
   "source": [
    "worker_from_questions = np.unique(question_data.subject)"
   ]
  },
  {
   "cell_type": "markdown",
   "id": "a4b347f6",
   "metadata": {},
   "source": [
    "#### Size"
   ]
  },
  {
   "cell_type": "code",
   "execution_count": null,
   "id": "bbcc038e",
   "metadata": {},
   "outputs": [],
   "source": [
    "screen_data = trial_data[trial_data.screenInLandscape == 1]"
   ]
  },
  {
   "cell_type": "code",
   "execution_count": null,
   "id": "020bcba1",
   "metadata": {},
   "outputs": [],
   "source": [
    "device_group = screen_data.groupby('device').describe()\n",
    "width = device_group['windowWidth']['max']\n",
    "height = device_group['windowHeight']['max']\n",
    "fig, axs = plt.subplots(1,1)\n",
    "axs.set_xlim(0,1400)\n",
    "axs.set_ylim(0,850)\n",
    "sns.scatterplot(x = width.values, y = height.values, hue = width.index, palette = device_colors)\n",
    "plt.legend(bbox_to_anchor=(1.05, 1), loc='upper left');"
   ]
  },
  {
   "cell_type": "code",
   "execution_count": null,
   "id": "c57b46ce",
   "metadata": {
    "scrolled": false
   },
   "outputs": [],
   "source": [
    "trial_data.head()"
   ]
  },
  {
   "cell_type": "markdown",
   "id": "475b6e5c",
   "metadata": {},
   "source": [
    "#### Refresh Rate"
   ]
  },
  {
   "cell_type": "code",
   "execution_count": null,
   "id": "cc44b032",
   "metadata": {},
   "outputs": [],
   "source": [
    "# compute differences between screen refresh timestamps\n",
    "animation_timestamps_diff = np.array([np.diff(trial_data.animation_timestamps[x]) \n",
    "                             for x in trial_data.index], copy = False, dtype = object)\n",
    "\n",
    "trial_data.loc[trial_data.index, 'animation_timestamps_diff'] = animation_timestamps_diff"
   ]
  },
  {
   "cell_type": "code",
   "execution_count": null,
   "id": "37770847",
   "metadata": {
    "scrolled": true
   },
   "outputs": [],
   "source": [
    "# plot mean refresh values per device\n",
    "# show variation around mean\n",
    "devices = np.unique(trial_data.device) \n",
    "\n",
    "fig_device_animation_frames, axs_device_animation_frames = plt.subplots(int(np.ceil(len(devices)/4)), 4, \n",
    "                                                                          figsize = (20,20), \n",
    "                                                                          sharex = True)\n",
    "\n",
    "means = []\n",
    "medians = []\n",
    "stds = []\n",
    "\n",
    "for d, ax in zip(devices, axs_device_animation_frames.flatten()):\n",
    "    \n",
    "    animation_frame_data = np.concatenate(\n",
    "        trial_data[trial_data.device == d]['animation_timestamps_diff'].values\n",
    "    ).flatten()\n",
    "    \n",
    "    mean_frame = np.mean(animation_frame_data)\n",
    "    median_frame = np.median(animation_frame_data)\n",
    "    std_frame = np.std(animation_frame_data)\n",
    "    \n",
    "    means.append(mean_frame)\n",
    "    medians.append(median_frame)\n",
    "    stds.append(std_frame)\n",
    "    \n",
    "    ax.hist(animation_frame_data[animation_frame_data <= 2*median_frame], bins = 35, color = device_colors[d])\n",
    "    ax.set_title(f\"dev: {d}, med: {round(median_frame, 2)}, sd: {round(std_frame,2)}\")\n",
    "    "
   ]
  },
  {
   "cell_type": "markdown",
   "id": "d84fcc7b",
   "metadata": {},
   "source": [
    "The mean value is quite well centered on one single bin, the median is at ~16.6666 ms for most devices, which would correspond to a 60Hz frame rate."
   ]
  },
  {
   "cell_type": "markdown",
   "id": "b5c35ec6",
   "metadata": {},
   "source": [
    "#### Screen refresh rate over trial"
   ]
  },
  {
   "cell_type": "code",
   "execution_count": null,
   "id": "5e73321f",
   "metadata": {
    "scrolled": true
   },
   "outputs": [],
   "source": [
    "refresh_diff = pd.DataFrame(trial_data.animation_timestamps_diff.values.tolist(), index = trial_data.index)\n",
    "refresh_diff.dropna(axis = 0, how = 'all', inplace = True)\n",
    "refresh_diff['device'] = trial_data.device\n",
    "refresh_diff['success'] = trial_data.success"
   ]
  },
  {
   "cell_type": "code",
   "execution_count": null,
   "id": "a6715cdd",
   "metadata": {},
   "outputs": [],
   "source": [
    "success_refresh = refresh_diff[refresh_diff.success == 1].dropna(axis = 1)\n",
    "success_refresh.drop('success', inplace = True, axis = 1)\n",
    "mean_rates = success_refresh.groupby('device').mean()\n",
    "std_rates = success_refresh.groupby('device').std()\n",
    "\n",
    "trial_rate_fig, axs_trial_rate = plt.subplots(int(np.ceil(len(devices)/4)), 4, \n",
    "                                              figsize = (20,20),\n",
    "                                              sharex = True, sharey = True)\n",
    "\n",
    "for d, ax in zip(devices, axs_trial_rate.flatten()):\n",
    "    ax.plot(std_rates.columns, mean_rates.loc[d])\n",
    "    ax.fill_between(std_rates.columns, mean_rates.loc[d] + std_rates.loc[d],\n",
    "                   mean_rates.loc[d] - std_rates.loc[d], alpha = 0.5) \n",
    "\n",
    "    ax.set_title(d)"
   ]
  },
  {
   "cell_type": "markdown",
   "id": "02363cbd",
   "metadata": {},
   "source": [
    "#### distance between unser interaction and next screen repaint"
   ]
  },
  {
   "cell_type": "code",
   "execution_count": null,
   "id": "8d1000f9",
   "metadata": {
    "scrolled": true
   },
   "outputs": [],
   "source": [
    "fig_device_frame_delay, axs_device_frame_delay = plt.subplots(int(np.ceil((len(devices)/4))), 4, \n",
    "                                                                          figsize = (20,20), sharey = True)\n",
    "\n",
    "means = []\n",
    "medians = []\n",
    "stds = []\n",
    "\n",
    "for d, ax in zip(devices, axs_device_frame_delay.flatten()):\n",
    "    \n",
    "    animation_frame_data = np.concatenate(\n",
    "        trial_data[trial_data.device == d]['animation_timestamps_to_touchOnTime'].values\n",
    "    ).flatten()\n",
    "    \n",
    "    mean_frame = np.mean(animation_frame_data)\n",
    "    median_frame = np.median(animation_frame_data)\n",
    "    std_frame = np.std(animation_frame_data)\n",
    "    \n",
    "    means.append(mean_frame)\n",
    "    medians.append(median_frame)\n",
    "    stds.append(std_frame)\n",
    "    \n",
    "    # an_frame_clean = animation_frame_data[animation_frame_data <= median_fram + 2 * std_frame]\n",
    "    \n",
    "    ax.hist(animation_frame_data, bins = int(round((max(animation_frame_data) - min(animation_frame_data))/1)), \n",
    "            color = device_colors[d])\n",
    "    ax.set_xlim(0,18)\n",
    "    ax.set_title(f\"{d}\")\n",
    "\n",
    "    \n",
    "plt.tight_layout()"
   ]
  },
  {
   "cell_type": "markdown",
   "id": "cef7027f",
   "metadata": {},
   "source": [
    "We observe two different patterns for screen repaint timing after interaction - either a uniform distribution of timestamps between 0 - 16 ms after the interaction, or an aligned rythmic repaint with a period of 6 - 8 ms.\n",
    "\n",
    "The rythmic repaint is somewhat inexplicable to me and could have different reasons:\n",
    "\n",
    "1. the browser limits how many commands browser-based js can perform per second\n",
    "2. the timing is inaccurate for some phones (but then I would expect messier data)\n",
    "3. the browser handles repaints like nested timeout calls and adds a 4ms delay (https://developer.mozilla.org/en-US/docs/Web/API/setTimeout#reasons_for_delays_longer_than_specified)\n",
    "\n",
    "#### Suggested reason:\n",
    "\n",
    "Talking to Pablo Prietz, he made the following suggestion: \n",
    "Some screens get the response from the touch screen on an event-based system - if there was a touch interaction, the information and the time stamp is sent to the phone. This would result in a non-rythmical alignment between touch interaction and screen refresh. However, some other phones might \"ask\" the screen in regular intervals for new events. \n",
    "This results in peaks in the distribution - like here, depending on how the peaks are phased with respect to the screen refresh. Regular touch refresh times vary between 120-300Hz "
   ]
  },
  {
   "cell_type": "markdown",
   "id": "534bdf9d",
   "metadata": {},
   "source": [
    "#### accuracy of event timing"
   ]
  },
  {
   "cell_type": "code",
   "execution_count": null,
   "id": "ce004e86",
   "metadata": {
    "scrolled": true
   },
   "outputs": [],
   "source": [
    "event_diff = trial_data.scheduled_eventOnTime - trial_data.eventOnTime\n",
    "print(f'median: {np.median(event_diff)}')\n",
    "print(f'mean: {np.mean(event_diff)}')\n",
    "print(f'std: {np.std(event_diff)}')\n",
    "\n",
    "clean_diff = event_diff[event_diff < np.median(event_diff) + 3 * np.std(event_diff)]\n",
    "clean_diff = clean_diff[clean_diff > np.median(event_diff) - 3 * np.std(event_diff)]"
   ]
  },
  {
   "cell_type": "code",
   "execution_count": null,
   "id": "69dc05e1",
   "metadata": {},
   "outputs": [],
   "source": [
    "event_timing_fig, event_timing_axs = plt.subplots(1,1)\n",
    "event_timing_axs.hist(clean_diff, bins = int(round(max(clean_diff) - min(clean_diff))))\n",
    "event_timing_axs.set_xlabel('delay relative to scheduled appearance')\n",
    "event_timing_axs.set_ylabel('count');"
   ]
  },
  {
   "cell_type": "markdown",
   "id": "adeb3b66",
   "metadata": {},
   "source": [
    "#### event accuracy after interaction"
   ]
  },
  {
   "cell_type": "code",
   "execution_count": null,
   "id": "9ec15b4d",
   "metadata": {},
   "outputs": [],
   "source": [
    "fig_device_event_accuracy, axs_device_event_accuracy = plt.subplots(int(np.ceil((len(devices)/4))), 4, \n",
    "                                                                          figsize = (20,20), sharey = True)\n",
    "\n",
    "for d, ax in zip(devices, axs_device_event_accuracy.flatten()):\n",
    "    \n",
    "    device_data = trial_data[trial_data.device == d]\n",
    "    ax.scatter(device_data.interaction_to_change_distance, \n",
    "               device_data.scheduled_eventOnTime - device_data.eventOnTime,\n",
    "              color = device_colors[d])\n",
    "    ax.set_xlim([-700, 20])\n",
    "    ax.set_ylim([-70, 5])\n",
    "    ax.set_title(d);"
   ]
  },
  {
   "cell_type": "markdown",
   "id": "5783930e",
   "metadata": {},
   "source": [
    "Most devices show accurate timing of user - screen repaint interaction. The SM-T116 (Samsung Tablet) shows the most deviations."
   ]
  },
  {
   "cell_type": "markdown",
   "id": "13480f75",
   "metadata": {},
   "source": [
    "#### calibration parameters"
   ]
  },
  {
   "cell_type": "code",
   "execution_count": null,
   "id": "7c321f9f",
   "metadata": {
    "scrolled": true
   },
   "outputs": [],
   "source": [
    "# Calibration tests\n",
    "valid_calibs = [helper.calibration_valid(calibration_params.loc[idx]) for idx in calibration_params.index]\n",
    "valid_calib_params = calibration_params[valid_calibs]\n",
    "\n",
    "valid_workers = [worker in worker_from_questions for worker in valid_calib_params.subject]\n",
    "valid_calib_params = valid_calib_params[valid_workers] \n",
    "\n",
    "last_calib_in_session = [valid_calib_params[valid_calib_params.session_id == s].index[-1] for s in np.unique(valid_calib_params.session_id)]\n",
    "valid_calib_params = valid_calib_params.loc[last_calib_in_session, :]\n",
    "\n",
    "valid_calib_params['device'] = [jatos_device_mapping[worker] for worker in valid_calib_params.subject]\n",
    "\n",
    "fig_cali, axs_cali = plt.subplots(2,3, figsize = (20, 10))\n",
    "\n",
    "# px2mm\n",
    "sns.scatterplot(data = valid_calib_params, \n",
    "                 y = 'px2mm', \n",
    "                 x = 'prolific_id', \n",
    "                 hue = 'device', \n",
    "                 ax = axs_cali[0,0], \n",
    "                 legend = True,\n",
    "                 palette = device_colors);\n",
    "axs_cali[0,0].set_xticklabels([]);\n",
    "axs_cali[0,0].legend(bbox_to_anchor=(-0.2, 1))\n",
    "\n",
    "\n",
    "# view_dist_mm\n",
    "sns.scatterplot(data = valid_calib_params, \n",
    "                y = 'view_dist_mm', \n",
    "                x = 'prolific_id', \n",
    "                hue = 'device', \n",
    "                ax = axs_cali[0,1], \n",
    "                legend = False,\n",
    "                palette = device_colors);\n",
    "axs_cali[0,1].set_xticklabels([]);\n",
    "\n",
    "# item_width_deg\n",
    "sns.scatterplot(data = valid_calib_params, \n",
    "                y = 'item_width_deg', \n",
    "                x = 'prolific_id', \n",
    "                hue = 'device', \n",
    "                ax = axs_cali[0,2], \n",
    "                legend = False,\n",
    "                palette = device_colors);\n",
    "axs_cali[0,2].set_xticklabels([]);\n",
    "\n",
    "# pix2deg\n",
    "sns.scatterplot(data = valid_calib_params, \n",
    "                y = 'px2deg', \n",
    "                x = 'prolific_id', \n",
    "                hue = 'device', \n",
    "                ax = axs_cali[1,0], \n",
    "                legend = False,\n",
    "                palette = device_colors);\n",
    "axs_cali[1,0].set_xticklabels([]);\n",
    "\n",
    "# win_width_deg\n",
    "sns.scatterplot(data = valid_calib_params, \n",
    "                y = 'win_width_deg', \n",
    "                x = 'prolific_id', \n",
    "                hue = 'device', \n",
    "                ax = axs_cali[1,1], \n",
    "                legend = False, \n",
    "                palette = device_colors);\n",
    "axs_cali[1,1].set_xticklabels([]);\n",
    "\n",
    "screen_width_session = screen_data.groupby(['session_id', 'device']).describe()['windowWidth']['max'].reset_index()\n",
    "calibrated_width_session = valid_calib_params.groupby(['session_id', 'device']).describe()['win_width_deg']['max'].reset_index()\n",
    "\n",
    "# win_width_deg\n",
    "sns.scatterplot(y = calibrated_width_session['max'], \n",
    "                x = screen_width_session['max'],\n",
    "                hue = screen_width_session['device'],\n",
    "                ax = axs_cali[1,2], \n",
    "                legend = False, \n",
    "                palette = device_colors\n",
    "               );\n",
    "\n"
   ]
  },
  {
   "cell_type": "markdown",
   "id": "a9068a9a",
   "metadata": {},
   "source": [
    "#### Compare variability in item width with variability in credit card measure vs. view distance"
   ]
  },
  {
   "cell_type": "code",
   "execution_count": null,
   "id": "7aeba869",
   "metadata": {},
   "outputs": [],
   "source": [
    "calibration_summary = valid_calib_params.groupby('prolific_id').describe()\n",
    "\n",
    "fig_variation, axs_variation = plt.subplots(1,2, figsize = (15,5))\n",
    "\n",
    "sns.scatterplot(data = calibration_summary, \n",
    "                x = calibration_summary.px2mm['std'], \n",
    "                y = calibration_summary.item_width_deg['std'], \n",
    "                ax = axs_variation[0],\n",
    "                hue = calibration_summary.index,\n",
    "               palette = 'icefire')\n",
    "axs_variation[0].legend(bbox_to_anchor=(-0.2, 1))\n",
    "axs_variation[0].set_xlabel('std in mm/px')\n",
    "axs_variation[0].set_ylabel('std in item width in deg')\n",
    "axs_variation[0].set_title('Credit Card Test')\n",
    "\n",
    "sns.scatterplot(data = calibration_summary, \n",
    "                x = calibration_summary.view_dist_mm['std'], \n",
    "                y = calibration_summary.item_width_deg['std'], \n",
    "                ax = axs_variation[1],\n",
    "                hue = calibration_summary.index,\n",
    "               palette = 'icefire',\n",
    "               legend = False)\n",
    "\n",
    "axs_variation[1].set_xlabel('std in viewing distance in mm')\n",
    "axs_variation[1].set_ylabel('std in item width in deg')\n",
    "axs_variation[1].set_title('Blind Spot Test');"
   ]
  },
  {
   "cell_type": "markdown",
   "id": "374fc778",
   "metadata": {},
   "source": [
    "## Demographic Data"
   ]
  },
  {
   "cell_type": "code",
   "execution_count": null,
   "id": "0c76f2d6",
   "metadata": {},
   "outputs": [],
   "source": [
    "prolific_metadata = pd.read_csv(metadata_path + 'prolific_meta_session_4.csv')\n",
    "prolific_metadata = prolific_metadata[prolific_metadata.participant_id !=  '5f9f4660d0edb75784c68223']"
   ]
  },
  {
   "cell_type": "markdown",
   "id": "6f16b591",
   "metadata": {},
   "source": [
    "#### age"
   ]
  },
  {
   "cell_type": "code",
   "execution_count": null,
   "id": "8fa40164",
   "metadata": {},
   "outputs": [],
   "source": [
    "age_participants = prolific_metadata.age\n",
    "plt.hist(age_participants);\n",
    "print(f'Median age: {np.median(age_participants)}')\n",
    "print(f'Max age: {max(age_participants)}')\n",
    "print(f'Min age: {min(age_participants)}')\n",
    "print(f'Std age: {np.std(age_participants)}')"
   ]
  },
  {
   "cell_type": "markdown",
   "id": "2f239fa9",
   "metadata": {},
   "source": [
    "#### gender"
   ]
  },
  {
   "cell_type": "code",
   "execution_count": null,
   "id": "43a02a84",
   "metadata": {},
   "outputs": [],
   "source": [
    "plt.hist(prolific_metadata.Sex);\n",
    "print(f\"n male: {len(prolific_metadata[prolific_metadata.Sex == 'Male'])}\")\n",
    "print(f\"n female: {len(prolific_metadata[prolific_metadata.Sex == 'Female'])}\")\n",
    "\n",
    "print(f\"Percentage female: {round(len(prolific_metadata[prolific_metadata.Sex == 'Female'])/len(prolific_metadata),2)*100} %\")"
   ]
  },
  {
   "cell_type": "markdown",
   "id": "50415d12",
   "metadata": {},
   "source": [
    "#### handedness"
   ]
  },
  {
   "cell_type": "code",
   "execution_count": null,
   "id": "c26d88d8",
   "metadata": {},
   "outputs": [],
   "source": [
    "question_session_4 = question_data[question_data.session_number == 4.]\n",
    "handedness = question_session_4[question_session_4.test_part == 'outro_hand'].reset_index(drop = True)\n",
    "handedness.dropna(axis = 1, inplace = True)\n",
    "\n",
    "print(f\"n right-handed: {len(handedness[handedness.survey_response == 'right'])}\")\n",
    "print(f\"n left_handed: {len(handedness[handedness.survey_response == 'left'])}\")\n",
    "\n",
    "plt.hist(handedness.survey_response);"
   ]
  },
  {
   "cell_type": "markdown",
   "id": "b8ed69b4",
   "metadata": {},
   "source": [
    "#### location"
   ]
  },
  {
   "cell_type": "code",
   "execution_count": null,
   "id": "1e3c0d4d",
   "metadata": {
    "scrolled": true
   },
   "outputs": [],
   "source": [
    "plt.hist(prolific_metadata['Current Country of Residence'], bins = 50)\n",
    "plt.xticks(rotation = 90);"
   ]
  },
  {
   "cell_type": "markdown",
   "id": "84eb8804",
   "metadata": {},
   "source": [
    "## Data Preprocessing\n",
    "\n",
    "- Extract successful data points\n",
    "- check outliers -> how many are there for each participant, color-code them\n",
    "- Mean center x and y coordinates"
   ]
  },
  {
   "cell_type": "markdown",
   "id": "a07b3e72",
   "metadata": {},
   "source": [
    "#### Outlier detection\n",
    "Plot the distance between the dot touch response and the dot location."
   ]
  },
  {
   "cell_type": "code",
   "execution_count": null,
   "id": "d7e88e67",
   "metadata": {
    "scrolled": false
   },
   "outputs": [],
   "source": [
    "subjects = np.unique(trial_data_successful.prolific_id)\n",
    "sessions = np.unique(trial_data_successful.session_number)\n",
    "\n",
    "position_fig, position_axs = plt.subplots(len(subjects), len(sessions), \n",
    "                                          figsize = (20, 50), sharex = True, sharey = True)\n",
    "\n",
    "for row_id, subject in enumerate(subjects):\n",
    "    subject_data = trial_data_successful[trial_data_successful.prolific_id == subject]\n",
    "    \n",
    "    for col_id, session in enumerate(sessions):\n",
    "        session_data = subject_data[subject_data.session_number == session]\n",
    "        \n",
    "        x_vals = np.concatenate(session_data['touchX'].values).flatten()\n",
    "        y_vals = np.concatenate(session_data['touchY'].values).flatten()\n",
    "        position_axs[row_id, col_id].scatter(x_vals, y_vals)\n",
    "    \n"
   ]
  },
  {
   "cell_type": "markdown",
   "id": "d314c2bb",
   "metadata": {},
   "source": [
    "#### Touch responses relative to true dot position\n",
    "- find position of dot during response\n",
    "- find position of dot in px on screen\n",
    "- compute difference between dot position and touch response"
   ]
  },
  {
   "cell_type": "code",
   "execution_count": null,
   "id": "1904b7f4",
   "metadata": {},
   "outputs": [],
   "source": [
    "relative_position_fig, relative_position_axs = plt.subplots(\n",
    "    len(subjects), \n",
    "    len(sessions), \n",
    "    figsize = (20, 50),\n",
    "    sharex = True, sharey = True)\n",
    "\n",
    "for row_id, subject in enumerate(subjects):\n",
    "    subject_data = trial_data_successful[trial_data_successful.prolific_id == subject]\n",
    "    \n",
    "    for col_id, session in enumerate(sessions):\n",
    "        session_data = subject_data[subject_data.session_number == session]\n",
    "        \n",
    "        x_vals = np.concatenate(session_data['pos_x_touch_x_dist'].values).flatten()\n",
    "        y_vals = np.concatenate(session_data['pos_y_touch_y_dist'].values).flatten()\n",
    "        relative_position_axs[row_id, col_id].scatter(x_vals, y_vals)\n",
    "        relative_position_axs[row_id, col_id].set_title(np.unique(session_data.device)[0])\n",
    "    "
   ]
  },
  {
   "cell_type": "markdown",
   "id": "5b2b8068",
   "metadata": {},
   "source": [
    "### Normalization of the error \n",
    "We tried to adjust the size of the points in pixel to what they would be in degree visual angle. So the size and deviation in pixel above might give an inaccurate idea of the deviation relative to the actual size of the dots. \n",
    "To correct for this, we normalize the touch responses to dva. The response target had a diameter of 1 dva. So by dividing the distances in pixel by the numbers of pixel per degree, we get the distance in degrees, and also as a fraction of the size of the target itself.\n",
    "\n",
    "### Include marking outliers\n",
    "Outliers will be color-coded as all points that were at least 3* the standart deviation away from the center of the dot."
   ]
  },
  {
   "cell_type": "code",
   "execution_count": null,
   "id": "969e0630",
   "metadata": {},
   "outputs": [],
   "source": [
    "normalized_dva_position_fig, normalized_dva_position_axs = plt.subplots(\n",
    "    len(subjects), \n",
    "    len(sessions), \n",
    "    figsize = (10, 50),\n",
    "    sharex = True, sharey = True)\n",
    "\n",
    "for row_id, subject in enumerate(subjects):\n",
    "    subject_data = trial_data_successful[trial_data_successful.prolific_id == subject]\n",
    "    normalized_dva_position_axs[row_id, 0].set_ylabel(subject[:5])\n",
    "    \n",
    "    for col_id, session in enumerate(sessions):\n",
    "        session_data = subject_data[subject_data.session_number == session]\n",
    "        \n",
    "        x_vals = np.concatenate((session_data['pos_x_touch_x_dist_dva']).values).flatten()\n",
    "        y_vals = np.concatenate((session_data['pos_y_touch_y_dist_dva']).values).flatten()\n",
    "        \n",
    "        x_limit = abs(np.mean(x_vals)) + 3 * np.std(x_vals)\n",
    "        y_limit = abs(np.mean(y_vals)) + 3 * np.std(y_vals)\n",
    "        \n",
    "        normalized_dva_position_axs[row_id, col_id].scatter(x_vals, y_vals)\n",
    "        normalized_dva_position_axs[row_id, col_id].scatter(x_vals[abs(x_vals) >= x_limit], y_vals[abs(x_vals) >= x_limit], color = 'red')\n",
    "        normalized_dva_position_axs[row_id, col_id].scatter(x_vals[abs(y_vals) >= y_limit], y_vals[abs(y_vals) >= y_limit], color = 'red')\n",
    "        normalized_dva_position_axs[row_id, col_id].set_title(np.unique(session_data.device)[0])\n",
    "    "
   ]
  },
  {
   "cell_type": "markdown",
   "id": "0e9902f1",
   "metadata": {},
   "source": [
    "It seems like the deviation is more uniformly distributed within sessions/users when expressed in dva compared to pixel. One reason for that could be that the allowed range is set in dva rather than in pixel.\n",
    "\n",
    "Another could be that the aiming precision is dependent on the visual information rather than on size relative to finger.\n",
    "\n",
    "### Normalize all positions into dva rather than pixel (relative to screen center)."
   ]
  },
  {
   "cell_type": "code",
   "execution_count": null,
   "id": "4fc31872",
   "metadata": {
    "scrolled": true
   },
   "outputs": [],
   "source": [
    "# done in preprocessing"
   ]
  },
  {
   "cell_type": "markdown",
   "id": "9a13d9e1",
   "metadata": {},
   "source": [
    "### Deviation by dot position in grid (rather than by session)"
   ]
  },
  {
   "cell_type": "code",
   "execution_count": null,
   "id": "f6dacb33",
   "metadata": {},
   "outputs": [],
   "source": [
    "normalized_dva_position_sequence_fig, normalized_dva_position_sequence_axs = plt.subplots(\n",
    "    len(subjects), \n",
    "    6, \n",
    "    figsize = (15, 50),\n",
    "    sharex = True, sharey = True)\n",
    "\n",
    "for row_id, subject in enumerate(subjects):\n",
    "    subject_data = trial_data_successful[trial_data_successful.prolific_id == subject]\n",
    "    normalized_dva_position_sequence_axs[row_id, 0].set_ylabel(subject[:5])\n",
    "    \n",
    "    for position in range(6):\n",
    "        x_vals = np.array([subject_data['pos_x_touch_x_dist_dva'][x][position] for x in subject_data.index])\n",
    "        y_vals = np.array([subject_data['pos_y_touch_y_dist_dva'][x][position] for x in subject_data.index])\n",
    "    \n",
    "        x_limit = abs(np.mean(x_vals)) + 3 * np.std(x_vals)\n",
    "        y_limit = abs(np.mean(y_vals)) + 3 * np.std(y_vals)\n",
    "        \n",
    "        normalized_dva_position_sequence_axs[row_id, position].scatter(x_vals, y_vals)\n",
    "        normalized_dva_position_sequence_axs[row_id, position].scatter(x_vals[abs(x_vals) >= x_limit], y_vals[abs(x_vals) >= x_limit], color = 'red')\n",
    "        normalized_dva_position_sequence_axs[row_id, position].scatter(x_vals[abs(y_vals) >= y_limit], y_vals[abs(y_vals) >= y_limit], color = 'red')\n",
    "        normalized_dva_position_sequence_axs[row_id, position].scatter(np.mean(x_vals), np.mean(y_vals), color = 'limegreen')\n",
    "        "
   ]
  },
  {
   "cell_type": "markdown",
   "id": "da842f00",
   "metadata": {},
   "source": [
    "The first dot is touched with higher accuracy than the following dots. By eye, it is not possible to see a clear difference between the subsequent dots.\n",
    "\n",
    "### Show the development of accuracy over dots\n",
    "\n",
    "##### Get the mean vector length for each dot averaged over participants\n",
    "##### Plot the mean over sessions and the mean of participant means"
   ]
  },
  {
   "cell_type": "code",
   "execution_count": null,
   "id": "6a8ee68a",
   "metadata": {},
   "outputs": [],
   "source": [
    "touch_accuracy_by_participant = pd.DataFrame()\n",
    "\n",
    "for s in subjects:\n",
    "    s_data = trial_data_successful[trial_data_successful.prolific_id == s]\n",
    "    s_accuracy_summary = np.mean(s_data.vector_touch_distance_dva)\n",
    "    s_accuracy_df = pd.DataFrame(s_accuracy_summary)\n",
    "    s_accuracy_df['touch_id'] = np.arange(0,6)\n",
    "    s_accuracy_df['subject'] = s\n",
    "    \n",
    "    touch_accuracy_by_participant = pd.concat([touch_accuracy_by_participant, s_accuracy_df], ignore_index = True)"
   ]
  },
  {
   "cell_type": "code",
   "execution_count": null,
   "id": "010af3f8",
   "metadata": {
    "scrolled": false
   },
   "outputs": [],
   "source": [
    "accuracy_fig, accuracy_axs = plt.subplots(1,1)\n",
    "sns.lineplot(data=touch_accuracy_by_participant, x=\"touch_id\", y=0, \n",
    "             hue=\"subject\", palette='Greys', alpha = 0.5, \n",
    "             legend = False, ax = accuracy_axs)\n",
    "\n",
    "sns.lineplot(data=touch_accuracy_by_participant, x=\"touch_id\", y=0, \n",
    "             color='Green', linewidth = 3, legend = False, ax = accuracy_axs)\n",
    "\n",
    "accuracy_axs.set_title('Accuracy of responses over dots')\n",
    "accuracy_axs.set_xlabel('Trial ID (1-4)')\n",
    "accuracy_axs.set_ylabel('Accuracy in degree');"
   ]
  },
  {
   "cell_type": "code",
   "execution_count": null,
   "id": "794140be",
   "metadata": {},
   "outputs": [],
   "source": [
    "# find the outlier subject\n",
    "print(np.unique(touch_accuracy_by_participant[touch_accuracy_by_participant[0]>1]['subject']))"
   ]
  },
  {
   "cell_type": "markdown",
   "id": "13105550",
   "metadata": {},
   "source": [
    "One subject makes visibly larger errors than the other subjects. This subject is subject has the id 61651240ae095fe8eafc25f8. They reported in the questionnaire to take ADHD medication. From visual inspection, I couldn't find other differences to other subjects - the pixel to degree transformation does not look unusual, either.\n",
    "\n",
    "The data does not look suspicious in the other plots, where I was looking at the deviation around the center. That's weird and I'll explore this further.\n",
    "\n",
    "### Check the direction of deviation for each subject"
   ]
  },
  {
   "cell_type": "markdown",
   "id": "bac2a633",
   "metadata": {},
   "source": [
    "### Build a long format dataset.\n",
    "Plotting the data from individual data points is easier if we have them in a long format, where one column indicates the position of the point in the array, and another column contains the value we are looking for."
   ]
  },
  {
   "cell_type": "code",
   "execution_count": null,
   "id": "3fde058b",
   "metadata": {},
   "outputs": [],
   "source": [
    "# Create Figure\n",
    "touch_placements_frequency_fig = plt.figure(figsize = [6*3,20*3]) \n",
    "touch_placement_frequency_axs = []\n",
    "\n",
    "# Make axis for each subplot\n",
    "for s in range(len(subjects)):\n",
    "    for dot_id in range(6):\n",
    "        ax = plt.subplot(len(subjects), 6, (s*6) + dot_id+1, projection = 'polar')\n",
    "        touch_placement_frequency_axs.append(ax)\n",
    "\n",
    "# function to show responses on radial axis\n",
    "def show_radial_histogram(angles, ax, N=36, normalize = False):\n",
    "    theta = np.linspace(0, 2 * np.pi, N, endpoint=False) # location on the circle\n",
    "    radii = np.histogram(angles, bins = N)[0] # line radius (height of the bar - this will be the height of our histogram)\n",
    "    if normalize:\n",
    "        radii = radii/sum(radii)\n",
    "    width = (2*np.pi)/N # like binwidth\n",
    "    colors = plt.cm.viridis(radii/max(radii))\n",
    "\n",
    "    ax.bar(theta, radii, width = width, bottom=0.0, color=colors, alpha=0.5)\n",
    "    # scale everything to the same axis\n",
    "    if not normalize:\n",
    "        ax.set_ylim([0,130])\n",
    "    else:\n",
    "        ax.set_ylim([0,0.15])\n",
    "\n",
    "# make the circular plot for each subject and dot\n",
    "for s, s_id in enumerate(subjects):\n",
    "    s_data = trial_data_long_format[trial_data_long_format.prolific_id == s_id]\n",
    "    touch_placement_frequency_axs[s*6].set_ylabel(s_id[:5], position = (1,0.5))\n",
    "    for dot_id in range(6):\n",
    "        angles = s_data[s_data.choiceOrder == dot_id]['touch_deviation_angle']\n",
    "        show_radial_histogram(angles, touch_placement_frequency_axs[s*6 + dot_id], normalize = True)\n",
    "\n",
    "        \n",
    "plt.suptitle('Frequency of touch responses by direction and dot ID', position = (0.5, 1.001))\n",
    "plt.tight_layout()"
   ]
  },
  {
   "cell_type": "markdown",
   "id": "3149cf6e",
   "metadata": {},
   "source": [
    "### Check vector length of deviation for each subject\n",
    "\n",
    "todo: maybe color by phone?"
   ]
  },
  {
   "cell_type": "code",
   "execution_count": null,
   "id": "168a708c",
   "metadata": {},
   "outputs": [],
   "source": [
    "trial_data_long_format['touch_deviation_rad'] = trial_data_long_format.touch_deviation_angle.apply(math.radians)\n",
    "trial_data_long_format.to_csv(successful_trials_long_path, index = False)"
   ]
  },
  {
   "cell_type": "code",
   "execution_count": null,
   "id": "b1a8b8f8",
   "metadata": {},
   "outputs": [],
   "source": [
    "# Create Figure\n",
    "touch_placements_distance_fig = plt.figure(figsize = [6*3,20*3]) \n",
    "touch_placement_distance_axs = []\n",
    "\n",
    "# Make axis for each subplot\n",
    "for s in range(len(subjects)):\n",
    "    for dot_id in range(6):\n",
    "        ax = plt.subplot(len(subjects), 6, (s*6) + dot_id+1, projection = 'polar')\n",
    "        touch_placement_distance_axs.append(ax)\n",
    "\n",
    "for row_id, subject in enumerate(subjects):\n",
    "    subject_data = trial_data_long_format[trial_data_long_format.prolific_id == subject]\n",
    "    touch_placement_distance_axs[row_id*6].set_ylabel(subject[:5])\n",
    "    \n",
    "    for position in range(6):\n",
    "        pos_data = subject_data[subject_data.choiceOrder == position]\n",
    "        touch_placement_distance_axs[row_id*6 + position].bar(\n",
    "            pos_data.touch_deviation_rad, \n",
    "            pos_data.vector_touch_distance_dva, \n",
    "            0.02, \n",
    "            alpha = 0.5)\n",
    "        \n",
    "        touch_placement_distance_axs[row_id*6 + position].set_ylim([0,2.5])\n",
    "        \n",
    "        "
   ]
  },
  {
   "cell_type": "markdown",
   "id": "fa2c6818",
   "metadata": {},
   "source": [
    "The person with the large deviation made very consistent responses to one side of the dot, and more errors close two 2 dva. Overall, the pattern from that person looks a bit like a linear offset of the responses upwards."
   ]
  },
  {
   "cell_type": "code",
   "execution_count": null,
   "id": "97c5d6f9",
   "metadata": {},
   "outputs": [],
   "source": [
    "error_angle_fig, error_angle_axs = plt.subplots(5,4, sharex = True, sharey = True, figsize = (20,15))\n",
    "\n",
    "for s, axs in zip(subjects, error_angle_axs.flatten()):\n",
    "    \n",
    "    df = trial_data_long_format[trial_data_long_format.prolific_id == s]\n",
    "    axs.set_title(s[:5])\n",
    "    axs.scatter(df.touch_deviation_angle, df.vector_touch_distance_dva, alpha = 0.2)\n",
    "\n"
   ]
  },
  {
   "cell_type": "code",
   "execution_count": null,
   "id": "a5f37ce7",
   "metadata": {},
   "outputs": [],
   "source": [
    "# TODO: Average the touch responses across people"
   ]
  },
  {
   "cell_type": "markdown",
   "id": "a61746ba",
   "metadata": {},
   "source": [
    "# ANALYSIS RESPONSE INHIBITION\n",
    "\n",
    "In this part of the analysis, I want to answer the question \"are manual responses inhibited after a change in the environment?\""
   ]
  },
  {
   "cell_type": "code",
   "execution_count": null,
   "id": "dd2f2693",
   "metadata": {},
   "outputs": [],
   "source": []
  }
 ],
 "metadata": {
  "kernelspec": {
   "display_name": "Python 3",
   "language": "python",
   "name": "python3"
  },
  "language_info": {
   "codemirror_mode": {
    "name": "ipython",
    "version": 3
   },
   "file_extension": ".py",
   "mimetype": "text/x-python",
   "name": "python",
   "nbconvert_exporter": "python",
   "pygments_lexer": "ipython3",
   "version": "3.8.8"
  }
 },
 "nbformat": 4,
 "nbformat_minor": 5
}
